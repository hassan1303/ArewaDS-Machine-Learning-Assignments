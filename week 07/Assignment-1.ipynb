{
 "cells": [
  {
   "cell_type": "code",
   "execution_count": null,
   "metadata": {},
   "outputs": [],
   "source": []
  },
  {
   "cell_type": "code",
   "execution_count": 1,
   "metadata": {},
   "outputs": [
    {
     "name": "stdout",
     "output_type": "stream",
     "text": [
      "Hello, I am HASSAN, the simple robot.\n",
      "You can end this conversation at any time by typing 'bye'\n",
      "After typing each answer, press 'enter'\n",
      "How are you today?\n",
      "I see. Do go on.\n",
      "I see. Do go on.\n",
      "Let's change the subject.\n",
      "Let's change the subject.\n",
      "Let's change the subject.\n",
      "Why do you say that?\n",
      "I see. Do go on.\n",
      "I see. Do go on.\n",
      "That is quite interesting, please tell me more.\n",
      "That is quite interesting, please tell me more.\n"
     ]
    }
   ],
   "source": [
    "import random\n",
    "\n",
    "# This list contains the random responses (you can add your own or translate them into your own language too)\n",
    "random_responses = [\"That is quite interesting, please tell me more.\",\n",
    "                    \"I see. Do go on.\",\n",
    "                    \"Why do you say that?\",\n",
    "                    \"Funny weather we've been having, isn't it?\",\n",
    "                    \"Let's change the subject.\",\n",
    "                    \"Did you catch the game last night?\"]\n",
    "\n",
    "print(\"Hello, I am HASSAN, the simple robot.\")\n",
    "print(\"You can end this conversation at any time by typing 'bye'\")\n",
    "print(\"After typing each answer, press 'enter'\")\n",
    "print(\"How are you today?\")\n",
    "\n",
    "while True:\n",
    "    # wait for the user to enter some text\n",
    "    user_input = input(\"> \")\n",
    "    if user_input.lower() == \"bye\":\n",
    "        # if they typed in 'bye' (or even BYE, ByE, byE etc.), break out of the loop\n",
    "        break\n",
    "    else:\n",
    "        response = random.choices(random_responses)[0]\n",
    "    print(response)\n",
    "\n",
    "print(\"It was nice talking to you, goodbye!\")"
   ]
  }
 ],
 "metadata": {
  "kernelspec": {
   "display_name": "base",
   "language": "python",
   "name": "python3"
  },
  "language_info": {
   "codemirror_mode": {
    "name": "ipython",
    "version": 3
   },
   "file_extension": ".py",
   "mimetype": "text/x-python",
   "name": "python",
   "nbconvert_exporter": "python",
   "pygments_lexer": "ipython3",
   "version": "3.8.8"
  },
  "orig_nbformat": 4
 },
 "nbformat": 4,
 "nbformat_minor": 2
}
