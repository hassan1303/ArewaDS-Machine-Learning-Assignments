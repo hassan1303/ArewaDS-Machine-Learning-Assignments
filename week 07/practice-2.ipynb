{
 "cells": [
  {
   "attachments": {},
   "cell_type": "markdown",
   "metadata": {},
   "source": [
    "# Common natural language processing tasks and techniques"
   ]
  },
  {
   "attachments": {},
   "cell_type": "markdown",
   "metadata": {},
   "source": [
    "## 1. Take a look at `ConllExtractor`."
   ]
  },
  {
   "cell_type": "code",
   "execution_count": null,
   "metadata": {},
   "outputs": [],
   "source": [
    "from textblob import TextBlob\n",
    "from textblob.np_extractors import ConllExtractor\n",
    "    # import and create a Conll extractor to use later \n",
    "extractor = ConllExtractor()\n",
    "    \n",
    "    # later when you need a noun phrase extractor:\n",
    "user_input = input(\"> \")\n",
    "user_input_blob = TextBlob(user_input, np_extractor=extractor)  # note non-default extractor specified\n",
    "np = user_input_blob.noun_phrases \n",
    "if user_input_blob.polarity <= -0.5:\n",
    "  response = \"Oh dear, that sounds bad. \"\n",
    "elif user_input_blob.polarity <= 0:\n",
    "  response = \"Hmm, that's not great. \"\n",
    "elif user_input_blob.polarity <= 0.5:\n",
    "  response = \"Well, that sounds positive. \"\n",
    "elif user_input_blob.polarity <= 1:\n",
    "  response = \"Wow, that sounds great. \""
   ]
  },
  {
   "cell_type": "code",
   "execution_count": null,
   "metadata": {},
   "outputs": [],
   "source": []
  }
 ],
 "metadata": {
  "kernelspec": {
   "display_name": "Python 3",
   "language": "python",
   "name": "python3"
  },
  "language_info": {
   "codemirror_mode": {
    "name": "ipython",
    "version": 3
   },
   "file_extension": ".py",
   "mimetype": "text/x-python",
   "name": "python",
   "nbconvert_exporter": "python",
   "pygments_lexer": "ipython3",
   "version": "3.8.8"
  }
 },
 "nbformat": 4,
 "nbformat_minor": 2
}
