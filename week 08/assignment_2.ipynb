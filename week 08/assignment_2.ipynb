{
 "cells": [
  {
   "cell_type": "code",
   "execution_count": 1,
   "metadata": {},
   "outputs": [],
   "source": [
    "import nltk\n",
    "from nltk.corpus import movie_reviews\n",
    "from nltk.tokenize import word_tokenize\n",
    "from nltk.classify import NaiveBayesClassifier\n",
    "from nltk.sentiment import SentimentIntensityAnalyzer"
   ]
  },
  {
   "cell_type": "code",
   "execution_count": 2,
   "metadata": {},
   "outputs": [
    {
     "name": "stderr",
     "output_type": "stream",
     "text": [
      "[nltk_data] Downloading package movie_reviews to\n",
      "[nltk_data]     /home/khalboy10/nltk_data...\n",
      "[nltk_data]   Package movie_reviews is already up-to-date!\n"
     ]
    }
   ],
   "source": [
    "# Prepare the data\n",
    "nltk.download('movie_reviews')\n",
    "positive_reviews = [(word_tokenize(movie_reviews.raw(fileid)), 'positive') for fileid in movie_reviews.fileids('pos')]\n",
    "negative_reviews = [(word_tokenize(movie_reviews.raw(fileid)), 'negative') for fileid in movie_reviews.fileids('neg')]\n",
    "reviews = positive_reviews + negative_reviews\n"
   ]
  },
  {
   "cell_type": "code",
   "execution_count": 3,
   "metadata": {},
   "outputs": [],
   "source": [
    "# Define feature extraction\n",
    "def extract_features(words):\n",
    "    return dict([(word, True) for word in words])"
   ]
  },
  {
   "cell_type": "code",
   "execution_count": 4,
   "metadata": {},
   "outputs": [],
   "source": [
    "# Prepare feature sets\n",
    "feature_sets = [(extract_features(review_words), sentiment) for (review_words, sentiment) in reviews]\n"
   ]
  },
  {
   "cell_type": "code",
   "execution_count": 5,
   "metadata": {},
   "outputs": [],
   "source": [
    "# Split the data into training and testing sets\n",
    "train_set = feature_sets[:8000]\n",
    "test_set = feature_sets[8000:]\n"
   ]
  },
  {
   "cell_type": "code",
   "execution_count": 6,
   "metadata": {},
   "outputs": [],
   "source": [
    "# Train the classifier\n",
    "classifier = NaiveBayesClassifier.train(train_set)"
   ]
  },
  {
   "cell_type": "code",
   "execution_count": 7,
   "metadata": {},
   "outputs": [
    {
     "name": "stdout",
     "output_type": "stream",
     "text": [
      "Accuracy: 0\n"
     ]
    }
   ],
   "source": [
    "# Test the classifier\n",
    "accuracy = nltk.classify.util.accuracy(classifier, test_set)\n",
    "print(\"Accuracy:\", accuracy)"
   ]
  },
  {
   "cell_type": "code",
   "execution_count": 11,
   "metadata": {},
   "outputs": [
    {
     "name": "stdout",
     "output_type": "stream",
     "text": [
      "Sentiment: positive\n"
     ]
    }
   ],
   "source": [
    "# Perform sentiment analysis on new text\n",
    "new_text = input('Enter Sentiment: ')\n",
    "new_text_features = extract_features(word_tokenize(new_text))\n",
    "sentiment = classifier.classify(new_text_features)\n",
    "print(\"Sentiment:\", sentiment)"
   ]
  }
 ],
 "metadata": {
  "kernelspec": {
   "display_name": "base",
   "language": "python",
   "name": "python3"
  },
  "language_info": {
   "codemirror_mode": {
    "name": "ipython",
    "version": 3
   },
   "file_extension": ".py",
   "mimetype": "text/x-python",
   "name": "python",
   "nbconvert_exporter": "python",
   "pygments_lexer": "ipython3",
   "version": "3.9.13"
  },
  "orig_nbformat": 4,
  "vscode": {
   "interpreter": {
    "hash": "cb1d2d89cb7c6a69a81de6a0cd8c1e2ebe2646f633b514a8a7f5dd3287604553"
   }
  }
 },
 "nbformat": 4,
 "nbformat_minor": 2
}
